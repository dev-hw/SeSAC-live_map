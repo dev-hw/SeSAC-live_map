{
  "nbformat": 4,
  "nbformat_minor": 0,
  "metadata": {
    "colab": {
      "provenance": []
    },
    "kernelspec": {
      "name": "python3",
      "display_name": "Python 3"
    },
    "language_info": {
      "name": "python"
    }
  },
  "cells": [
    {
      "cell_type": "code",
      "execution_count": 1,
      "metadata": {
        "id": "07OUsOiWc61K"
      },
      "outputs": [],
      "source": [
        "import pandas as pd\n",
        "\n",
        "#데이터 불러오기\n",
        "original_data = pd.read_csv(\"data.csv\", encoding='cp949')\n",
        "data = original_data"
      ]
    },
    {
      "cell_type": "markdown",
      "source": [
        "### 1. 데이터 확인"
      ],
      "metadata": {
        "id": "pSOgtc58mgdT"
      }
    },
    {
      "cell_type": "code",
      "source": [
        "data.head()"
      ],
      "metadata": {
        "id": "pG5WOsAcerNf",
        "colab": {
          "base_uri": "https://localhost:8080/",
          "height": 1000
        },
        "outputId": "3826755a-430d-4809-872d-82f70fd37b9e"
      },
      "execution_count": 2,
      "outputs": [
        {
          "output_type": "execute_result",
          "data": {
            "text/plain": [
              "         도서관명  시도명  시군구명  도서관유형                                 휴관일 평일운영시작시각  \\\n",
              "0  이석영뉴미디어도서관  경기도  남양주시  공공도서관  둘째·넷째 금요일+1월 1일+설날·추석 연휴(대체공휴일 포함)     9:00   \n",
              "1       원덕도서관  강원도   삼척시  공공도서관                       토요일+일요일+법정공휴일     9:00   \n",
              "2  가평군 한석봉도서관  경기도   가평군  공공도서관                     1월 1일+설 연휴+추석연휴     7:00   \n",
              "3   가평군 설악도서관  경기도   가평군  공공도서관                     1월 1일+설 연휴+추석연휴     7:00   \n",
              "4   가평군 청평도서관  경기도   가평군  공공도서관                     1월 1일+설 연휴+추석연휴     7:00   \n",
              "\n",
              "  평일운영종료시각 토요일운영시작시각 토요일운영종료시각 공휴일운영시작시각  ...      운영기관명       도서관전화번호  \\\n",
              "0    22:00      9:00     18:00      9:00  ...  사단법인 문화현상  031-595-8390   \n",
              "1    18:00      0:00      0:00      0:00  ...   강원도 삼척시청  033-572-4819   \n",
              "2    23:59      7:00     23:59      7:00  ...    경기도 가평군  031-580-4041   \n",
              "3    23:59      7:00     23:59      7:00  ...    경기도 가평군  031-580-4313   \n",
              "4    23:59      7:00     23:59      7:00  ...    경기도 가평군  031-580-4332   \n",
              "\n",
              "     부지면적    건물면적                    홈페이지주소         위도          경도  \\\n",
              "0  1843.0  4877.0  http://lib.nyj.go.kr/lsy  37.658160  127.299532   \n",
              "1   766.0   364.0                       NaN  37.176854  129.335484   \n",
              "2  7485.0  3602.0          www.gaplib.go.kr  37.829691  127.506433   \n",
              "3  3693.0  1470.0          www.gaplib.go.kr  37.683315  127.491015   \n",
              "4  4500.0  2486.0          www.gaplib.go.kr  37.739591  127.424230   \n",
              "\n",
              "      데이터기준일자   제공기관코드        제공기관명  \n",
              "0  2023-04-30  3990000     경기도 남양주시  \n",
              "1  2023-06-20  4241000  강원특별자치도 삼척시  \n",
              "2  2023-06-21  4160000      경기도 가평군  \n",
              "3  2023-06-21  4160000      경기도 가평군  \n",
              "4  2023-06-21  4160000      경기도 가평군  \n",
              "\n",
              "[5 rows x 28 columns]"
            ],
            "text/html": [
              "\n",
              "\n",
              "  <div id=\"df-996cb52f-9c30-40c4-9dd4-66ee194d829f\">\n",
              "    <div class=\"colab-df-container\">\n",
              "      <div>\n",
              "<style scoped>\n",
              "    .dataframe tbody tr th:only-of-type {\n",
              "        vertical-align: middle;\n",
              "    }\n",
              "\n",
              "    .dataframe tbody tr th {\n",
              "        vertical-align: top;\n",
              "    }\n",
              "\n",
              "    .dataframe thead th {\n",
              "        text-align: right;\n",
              "    }\n",
              "</style>\n",
              "<table border=\"1\" class=\"dataframe\">\n",
              "  <thead>\n",
              "    <tr style=\"text-align: right;\">\n",
              "      <th></th>\n",
              "      <th>도서관명</th>\n",
              "      <th>시도명</th>\n",
              "      <th>시군구명</th>\n",
              "      <th>도서관유형</th>\n",
              "      <th>휴관일</th>\n",
              "      <th>평일운영시작시각</th>\n",
              "      <th>평일운영종료시각</th>\n",
              "      <th>토요일운영시작시각</th>\n",
              "      <th>토요일운영종료시각</th>\n",
              "      <th>공휴일운영시작시각</th>\n",
              "      <th>...</th>\n",
              "      <th>운영기관명</th>\n",
              "      <th>도서관전화번호</th>\n",
              "      <th>부지면적</th>\n",
              "      <th>건물면적</th>\n",
              "      <th>홈페이지주소</th>\n",
              "      <th>위도</th>\n",
              "      <th>경도</th>\n",
              "      <th>데이터기준일자</th>\n",
              "      <th>제공기관코드</th>\n",
              "      <th>제공기관명</th>\n",
              "    </tr>\n",
              "  </thead>\n",
              "  <tbody>\n",
              "    <tr>\n",
              "      <th>0</th>\n",
              "      <td>이석영뉴미디어도서관</td>\n",
              "      <td>경기도</td>\n",
              "      <td>남양주시</td>\n",
              "      <td>공공도서관</td>\n",
              "      <td>둘째·넷째 금요일+1월 1일+설날·추석 연휴(대체공휴일 포함)</td>\n",
              "      <td>9:00</td>\n",
              "      <td>22:00</td>\n",
              "      <td>9:00</td>\n",
              "      <td>18:00</td>\n",
              "      <td>9:00</td>\n",
              "      <td>...</td>\n",
              "      <td>사단법인 문화현상</td>\n",
              "      <td>031-595-8390</td>\n",
              "      <td>1843.0</td>\n",
              "      <td>4877.0</td>\n",
              "      <td>http://lib.nyj.go.kr/lsy</td>\n",
              "      <td>37.658160</td>\n",
              "      <td>127.299532</td>\n",
              "      <td>2023-04-30</td>\n",
              "      <td>3990000</td>\n",
              "      <td>경기도 남양주시</td>\n",
              "    </tr>\n",
              "    <tr>\n",
              "      <th>1</th>\n",
              "      <td>원덕도서관</td>\n",
              "      <td>강원도</td>\n",
              "      <td>삼척시</td>\n",
              "      <td>공공도서관</td>\n",
              "      <td>토요일+일요일+법정공휴일</td>\n",
              "      <td>9:00</td>\n",
              "      <td>18:00</td>\n",
              "      <td>0:00</td>\n",
              "      <td>0:00</td>\n",
              "      <td>0:00</td>\n",
              "      <td>...</td>\n",
              "      <td>강원도 삼척시청</td>\n",
              "      <td>033-572-4819</td>\n",
              "      <td>766.0</td>\n",
              "      <td>364.0</td>\n",
              "      <td>NaN</td>\n",
              "      <td>37.176854</td>\n",
              "      <td>129.335484</td>\n",
              "      <td>2023-06-20</td>\n",
              "      <td>4241000</td>\n",
              "      <td>강원특별자치도 삼척시</td>\n",
              "    </tr>\n",
              "    <tr>\n",
              "      <th>2</th>\n",
              "      <td>가평군 한석봉도서관</td>\n",
              "      <td>경기도</td>\n",
              "      <td>가평군</td>\n",
              "      <td>공공도서관</td>\n",
              "      <td>1월 1일+설 연휴+추석연휴</td>\n",
              "      <td>7:00</td>\n",
              "      <td>23:59</td>\n",
              "      <td>7:00</td>\n",
              "      <td>23:59</td>\n",
              "      <td>7:00</td>\n",
              "      <td>...</td>\n",
              "      <td>경기도 가평군</td>\n",
              "      <td>031-580-4041</td>\n",
              "      <td>7485.0</td>\n",
              "      <td>3602.0</td>\n",
              "      <td>www.gaplib.go.kr</td>\n",
              "      <td>37.829691</td>\n",
              "      <td>127.506433</td>\n",
              "      <td>2023-06-21</td>\n",
              "      <td>4160000</td>\n",
              "      <td>경기도 가평군</td>\n",
              "    </tr>\n",
              "    <tr>\n",
              "      <th>3</th>\n",
              "      <td>가평군 설악도서관</td>\n",
              "      <td>경기도</td>\n",
              "      <td>가평군</td>\n",
              "      <td>공공도서관</td>\n",
              "      <td>1월 1일+설 연휴+추석연휴</td>\n",
              "      <td>7:00</td>\n",
              "      <td>23:59</td>\n",
              "      <td>7:00</td>\n",
              "      <td>23:59</td>\n",
              "      <td>7:00</td>\n",
              "      <td>...</td>\n",
              "      <td>경기도 가평군</td>\n",
              "      <td>031-580-4313</td>\n",
              "      <td>3693.0</td>\n",
              "      <td>1470.0</td>\n",
              "      <td>www.gaplib.go.kr</td>\n",
              "      <td>37.683315</td>\n",
              "      <td>127.491015</td>\n",
              "      <td>2023-06-21</td>\n",
              "      <td>4160000</td>\n",
              "      <td>경기도 가평군</td>\n",
              "    </tr>\n",
              "    <tr>\n",
              "      <th>4</th>\n",
              "      <td>가평군 청평도서관</td>\n",
              "      <td>경기도</td>\n",
              "      <td>가평군</td>\n",
              "      <td>공공도서관</td>\n",
              "      <td>1월 1일+설 연휴+추석연휴</td>\n",
              "      <td>7:00</td>\n",
              "      <td>23:59</td>\n",
              "      <td>7:00</td>\n",
              "      <td>23:59</td>\n",
              "      <td>7:00</td>\n",
              "      <td>...</td>\n",
              "      <td>경기도 가평군</td>\n",
              "      <td>031-580-4332</td>\n",
              "      <td>4500.0</td>\n",
              "      <td>2486.0</td>\n",
              "      <td>www.gaplib.go.kr</td>\n",
              "      <td>37.739591</td>\n",
              "      <td>127.424230</td>\n",
              "      <td>2023-06-21</td>\n",
              "      <td>4160000</td>\n",
              "      <td>경기도 가평군</td>\n",
              "    </tr>\n",
              "  </tbody>\n",
              "</table>\n",
              "<p>5 rows × 28 columns</p>\n",
              "</div>\n",
              "      <button class=\"colab-df-convert\" onclick=\"convertToInteractive('df-996cb52f-9c30-40c4-9dd4-66ee194d829f')\"\n",
              "              title=\"Convert this dataframe to an interactive table.\"\n",
              "              style=\"display:none;\">\n",
              "\n",
              "  <svg xmlns=\"http://www.w3.org/2000/svg\" height=\"24px\"viewBox=\"0 0 24 24\"\n",
              "       width=\"24px\">\n",
              "    <path d=\"M0 0h24v24H0V0z\" fill=\"none\"/>\n",
              "    <path d=\"M18.56 5.44l.94 2.06.94-2.06 2.06-.94-2.06-.94-.94-2.06-.94 2.06-2.06.94zm-11 1L8.5 8.5l.94-2.06 2.06-.94-2.06-.94L8.5 2.5l-.94 2.06-2.06.94zm10 10l.94 2.06.94-2.06 2.06-.94-2.06-.94-.94-2.06-.94 2.06-2.06.94z\"/><path d=\"M17.41 7.96l-1.37-1.37c-.4-.4-.92-.59-1.43-.59-.52 0-1.04.2-1.43.59L10.3 9.45l-7.72 7.72c-.78.78-.78 2.05 0 2.83L4 21.41c.39.39.9.59 1.41.59.51 0 1.02-.2 1.41-.59l7.78-7.78 2.81-2.81c.8-.78.8-2.07 0-2.86zM5.41 20L4 18.59l7.72-7.72 1.47 1.35L5.41 20z\"/>\n",
              "  </svg>\n",
              "      </button>\n",
              "\n",
              "\n",
              "\n",
              "    <div id=\"df-3d4aa503-1953-43dd-8041-8db6198de68d\">\n",
              "      <button class=\"colab-df-quickchart\" onclick=\"quickchart('df-3d4aa503-1953-43dd-8041-8db6198de68d')\"\n",
              "              title=\"Suggest charts.\"\n",
              "              style=\"display:none;\">\n",
              "\n",
              "<svg xmlns=\"http://www.w3.org/2000/svg\" height=\"24px\"viewBox=\"0 0 24 24\"\n",
              "     width=\"24px\">\n",
              "    <g>\n",
              "        <path d=\"M19 3H5c-1.1 0-2 .9-2 2v14c0 1.1.9 2 2 2h14c1.1 0 2-.9 2-2V5c0-1.1-.9-2-2-2zM9 17H7v-7h2v7zm4 0h-2V7h2v10zm4 0h-2v-4h2v4z\"/>\n",
              "    </g>\n",
              "</svg>\n",
              "      </button>\n",
              "    </div>\n",
              "\n",
              "<style>\n",
              "  .colab-df-quickchart {\n",
              "    background-color: #E8F0FE;\n",
              "    border: none;\n",
              "    border-radius: 50%;\n",
              "    cursor: pointer;\n",
              "    display: none;\n",
              "    fill: #1967D2;\n",
              "    height: 32px;\n",
              "    padding: 0 0 0 0;\n",
              "    width: 32px;\n",
              "  }\n",
              "\n",
              "  .colab-df-quickchart:hover {\n",
              "    background-color: #E2EBFA;\n",
              "    box-shadow: 0px 1px 2px rgba(60, 64, 67, 0.3), 0px 1px 3px 1px rgba(60, 64, 67, 0.15);\n",
              "    fill: #174EA6;\n",
              "  }\n",
              "\n",
              "  [theme=dark] .colab-df-quickchart {\n",
              "    background-color: #3B4455;\n",
              "    fill: #D2E3FC;\n",
              "  }\n",
              "\n",
              "  [theme=dark] .colab-df-quickchart:hover {\n",
              "    background-color: #434B5C;\n",
              "    box-shadow: 0px 1px 3px 1px rgba(0, 0, 0, 0.15);\n",
              "    filter: drop-shadow(0px 1px 2px rgba(0, 0, 0, 0.3));\n",
              "    fill: #FFFFFF;\n",
              "  }\n",
              "</style>\n",
              "\n",
              "    <script>\n",
              "      async function quickchart(key) {\n",
              "        const containerElement = document.querySelector('#' + key);\n",
              "        const charts = await google.colab.kernel.invokeFunction(\n",
              "            'suggestCharts', [key], {});\n",
              "      }\n",
              "    </script>\n",
              "\n",
              "      <script>\n",
              "\n",
              "function displayQuickchartButton(domScope) {\n",
              "  let quickchartButtonEl =\n",
              "    domScope.querySelector('#df-3d4aa503-1953-43dd-8041-8db6198de68d button.colab-df-quickchart');\n",
              "  quickchartButtonEl.style.display =\n",
              "    google.colab.kernel.accessAllowed ? 'block' : 'none';\n",
              "}\n",
              "\n",
              "        displayQuickchartButton(document);\n",
              "      </script>\n",
              "      <style>\n",
              "    .colab-df-container {\n",
              "      display:flex;\n",
              "      flex-wrap:wrap;\n",
              "      gap: 12px;\n",
              "    }\n",
              "\n",
              "    .colab-df-convert {\n",
              "      background-color: #E8F0FE;\n",
              "      border: none;\n",
              "      border-radius: 50%;\n",
              "      cursor: pointer;\n",
              "      display: none;\n",
              "      fill: #1967D2;\n",
              "      height: 32px;\n",
              "      padding: 0 0 0 0;\n",
              "      width: 32px;\n",
              "    }\n",
              "\n",
              "    .colab-df-convert:hover {\n",
              "      background-color: #E2EBFA;\n",
              "      box-shadow: 0px 1px 2px rgba(60, 64, 67, 0.3), 0px 1px 3px 1px rgba(60, 64, 67, 0.15);\n",
              "      fill: #174EA6;\n",
              "    }\n",
              "\n",
              "    [theme=dark] .colab-df-convert {\n",
              "      background-color: #3B4455;\n",
              "      fill: #D2E3FC;\n",
              "    }\n",
              "\n",
              "    [theme=dark] .colab-df-convert:hover {\n",
              "      background-color: #434B5C;\n",
              "      box-shadow: 0px 1px 3px 1px rgba(0, 0, 0, 0.15);\n",
              "      filter: drop-shadow(0px 1px 2px rgba(0, 0, 0, 0.3));\n",
              "      fill: #FFFFFF;\n",
              "    }\n",
              "  </style>\n",
              "\n",
              "      <script>\n",
              "        const buttonEl =\n",
              "          document.querySelector('#df-996cb52f-9c30-40c4-9dd4-66ee194d829f button.colab-df-convert');\n",
              "        buttonEl.style.display =\n",
              "          google.colab.kernel.accessAllowed ? 'block' : 'none';\n",
              "\n",
              "        async function convertToInteractive(key) {\n",
              "          const element = document.querySelector('#df-996cb52f-9c30-40c4-9dd4-66ee194d829f');\n",
              "          const dataTable =\n",
              "            await google.colab.kernel.invokeFunction('convertToInteractive',\n",
              "                                                     [key], {});\n",
              "          if (!dataTable) return;\n",
              "\n",
              "          const docLinkHtml = 'Like what you see? Visit the ' +\n",
              "            '<a target=\"_blank\" href=https://colab.research.google.com/notebooks/data_table.ipynb>data table notebook</a>'\n",
              "            + ' to learn more about interactive tables.';\n",
              "          element.innerHTML = '';\n",
              "          dataTable['output_type'] = 'display_data';\n",
              "          await google.colab.output.renderOutput(dataTable, element);\n",
              "          const docLink = document.createElement('div');\n",
              "          docLink.innerHTML = docLinkHtml;\n",
              "          element.appendChild(docLink);\n",
              "        }\n",
              "      </script>\n",
              "    </div>\n",
              "  </div>\n"
            ]
          },
          "metadata": {},
          "execution_count": 2
        }
      ]
    },
    {
      "cell_type": "code",
      "source": [
        "#NaN값 확인 - 위도, 경도가 없는 경우가 많음 -> 소재지 도로명 주소는 있음\n",
        "data.isnull().sum()"
      ],
      "metadata": {
        "colab": {
          "base_uri": "https://localhost:8080/"
        },
        "id": "0nDG6qEMia4k",
        "outputId": "323da23a-1f23-4b45-9d19-7248de248f3b"
      },
      "execution_count": 3,
      "outputs": [
        {
          "output_type": "execute_result",
          "data": {
            "text/plain": [
              "도서관명             0\n",
              "시도명              0\n",
              "시군구명             0\n",
              "도서관유형            0\n",
              "휴관일              0\n",
              "평일운영시작시각         0\n",
              "평일운영종료시각         0\n",
              "토요일운영시작시각        0\n",
              "토요일운영종료시각        0\n",
              "공휴일운영시작시각        0\n",
              "공휴일운영종료시각        0\n",
              "열람좌석수            0\n",
              "자료수(도서)          0\n",
              "자료수(연속간행물)       0\n",
              "자료수(비도서)         0\n",
              "대출가능권수           0\n",
              "대출가능일수           0\n",
              "소재지도로명주소         0\n",
              "운영기관명          668\n",
              "도서관전화번호        233\n",
              "부지면적          1610\n",
              "건물면적           481\n",
              "홈페이지주소        1422\n",
              "위도             258\n",
              "경도             247\n",
              "데이터기준일자          0\n",
              "제공기관코드           0\n",
              "제공기관명            0\n",
              "dtype: int64"
            ]
          },
          "metadata": {},
          "execution_count": 3
        }
      ]
    },
    {
      "cell_type": "code",
      "source": [
        "data1 = data.loc[:, ['도서관명', '소재지도로명주소', '위도', '경도']]"
      ],
      "metadata": {
        "id": "kV8t5oxXfWpO"
      },
      "execution_count": 4,
      "outputs": []
    },
    {
      "cell_type": "code",
      "source": [
        "# 위도, 경도를 도로명주소로 찾아서 변환\n",
        "# 위도나 경도가 NaN인 값을 찾아서 데이터프레임 출력\n",
        "nan_df = data1[data['위도'].isnull() | data['경도'].isnull()]\n",
        "\n",
        "print(nan_df.count())  # 258\n",
        "\n",
        "nan_df.head()"
      ],
      "metadata": {
        "colab": {
          "base_uri": "https://localhost:8080/",
          "height": 298
        },
        "id": "ScMveIaIjoEl",
        "outputId": "26f0d316-2043-40e3-8c1b-ab46b98c9479"
      },
      "execution_count": 5,
      "outputs": [
        {
          "output_type": "stream",
          "name": "stdout",
          "text": [
            "도서관명        258\n",
            "소재지도로명주소    258\n",
            "위도            0\n",
            "경도           11\n",
            "dtype: int64\n"
          ]
        },
        {
          "output_type": "execute_result",
          "data": {
            "text/plain": [
              "          도서관명                소재지도로명주소  위도  경도\n",
              "45   사천시어린이도서관  경상남도 사천시 사남면 조동길 49-30 NaN NaN\n",
              "78    맑은숲작은도서관        울산광역시 동구 명덕6길 29 NaN NaN\n",
              "161  크레파스작은도서관        울산광역시 동구 동해안로 98 NaN NaN\n",
              "262   손기정문화도서관        서울특별시 중구 손기정로101 NaN NaN\n",
              "263  장충동 작은도서관      서울특별시 중구 동호로25길 33 NaN NaN"
            ],
            "text/html": [
              "\n",
              "\n",
              "  <div id=\"df-759726db-a403-4096-a2bf-73199fbe3bec\">\n",
              "    <div class=\"colab-df-container\">\n",
              "      <div>\n",
              "<style scoped>\n",
              "    .dataframe tbody tr th:only-of-type {\n",
              "        vertical-align: middle;\n",
              "    }\n",
              "\n",
              "    .dataframe tbody tr th {\n",
              "        vertical-align: top;\n",
              "    }\n",
              "\n",
              "    .dataframe thead th {\n",
              "        text-align: right;\n",
              "    }\n",
              "</style>\n",
              "<table border=\"1\" class=\"dataframe\">\n",
              "  <thead>\n",
              "    <tr style=\"text-align: right;\">\n",
              "      <th></th>\n",
              "      <th>도서관명</th>\n",
              "      <th>소재지도로명주소</th>\n",
              "      <th>위도</th>\n",
              "      <th>경도</th>\n",
              "    </tr>\n",
              "  </thead>\n",
              "  <tbody>\n",
              "    <tr>\n",
              "      <th>45</th>\n",
              "      <td>사천시어린이도서관</td>\n",
              "      <td>경상남도 사천시 사남면 조동길 49-30</td>\n",
              "      <td>NaN</td>\n",
              "      <td>NaN</td>\n",
              "    </tr>\n",
              "    <tr>\n",
              "      <th>78</th>\n",
              "      <td>맑은숲작은도서관</td>\n",
              "      <td>울산광역시 동구 명덕6길 29</td>\n",
              "      <td>NaN</td>\n",
              "      <td>NaN</td>\n",
              "    </tr>\n",
              "    <tr>\n",
              "      <th>161</th>\n",
              "      <td>크레파스작은도서관</td>\n",
              "      <td>울산광역시 동구 동해안로 98</td>\n",
              "      <td>NaN</td>\n",
              "      <td>NaN</td>\n",
              "    </tr>\n",
              "    <tr>\n",
              "      <th>262</th>\n",
              "      <td>손기정문화도서관</td>\n",
              "      <td>서울특별시 중구 손기정로101</td>\n",
              "      <td>NaN</td>\n",
              "      <td>NaN</td>\n",
              "    </tr>\n",
              "    <tr>\n",
              "      <th>263</th>\n",
              "      <td>장충동 작은도서관</td>\n",
              "      <td>서울특별시 중구 동호로25길 33</td>\n",
              "      <td>NaN</td>\n",
              "      <td>NaN</td>\n",
              "    </tr>\n",
              "  </tbody>\n",
              "</table>\n",
              "</div>\n",
              "      <button class=\"colab-df-convert\" onclick=\"convertToInteractive('df-759726db-a403-4096-a2bf-73199fbe3bec')\"\n",
              "              title=\"Convert this dataframe to an interactive table.\"\n",
              "              style=\"display:none;\">\n",
              "\n",
              "  <svg xmlns=\"http://www.w3.org/2000/svg\" height=\"24px\"viewBox=\"0 0 24 24\"\n",
              "       width=\"24px\">\n",
              "    <path d=\"M0 0h24v24H0V0z\" fill=\"none\"/>\n",
              "    <path d=\"M18.56 5.44l.94 2.06.94-2.06 2.06-.94-2.06-.94-.94-2.06-.94 2.06-2.06.94zm-11 1L8.5 8.5l.94-2.06 2.06-.94-2.06-.94L8.5 2.5l-.94 2.06-2.06.94zm10 10l.94 2.06.94-2.06 2.06-.94-2.06-.94-.94-2.06-.94 2.06-2.06.94z\"/><path d=\"M17.41 7.96l-1.37-1.37c-.4-.4-.92-.59-1.43-.59-.52 0-1.04.2-1.43.59L10.3 9.45l-7.72 7.72c-.78.78-.78 2.05 0 2.83L4 21.41c.39.39.9.59 1.41.59.51 0 1.02-.2 1.41-.59l7.78-7.78 2.81-2.81c.8-.78.8-2.07 0-2.86zM5.41 20L4 18.59l7.72-7.72 1.47 1.35L5.41 20z\"/>\n",
              "  </svg>\n",
              "      </button>\n",
              "\n",
              "\n",
              "\n",
              "    <div id=\"df-15e99766-3445-4f34-a5a9-417c370b6456\">\n",
              "      <button class=\"colab-df-quickchart\" onclick=\"quickchart('df-15e99766-3445-4f34-a5a9-417c370b6456')\"\n",
              "              title=\"Suggest charts.\"\n",
              "              style=\"display:none;\">\n",
              "\n",
              "<svg xmlns=\"http://www.w3.org/2000/svg\" height=\"24px\"viewBox=\"0 0 24 24\"\n",
              "     width=\"24px\">\n",
              "    <g>\n",
              "        <path d=\"M19 3H5c-1.1 0-2 .9-2 2v14c0 1.1.9 2 2 2h14c1.1 0 2-.9 2-2V5c0-1.1-.9-2-2-2zM9 17H7v-7h2v7zm4 0h-2V7h2v10zm4 0h-2v-4h2v4z\"/>\n",
              "    </g>\n",
              "</svg>\n",
              "      </button>\n",
              "    </div>\n",
              "\n",
              "<style>\n",
              "  .colab-df-quickchart {\n",
              "    background-color: #E8F0FE;\n",
              "    border: none;\n",
              "    border-radius: 50%;\n",
              "    cursor: pointer;\n",
              "    display: none;\n",
              "    fill: #1967D2;\n",
              "    height: 32px;\n",
              "    padding: 0 0 0 0;\n",
              "    width: 32px;\n",
              "  }\n",
              "\n",
              "  .colab-df-quickchart:hover {\n",
              "    background-color: #E2EBFA;\n",
              "    box-shadow: 0px 1px 2px rgba(60, 64, 67, 0.3), 0px 1px 3px 1px rgba(60, 64, 67, 0.15);\n",
              "    fill: #174EA6;\n",
              "  }\n",
              "\n",
              "  [theme=dark] .colab-df-quickchart {\n",
              "    background-color: #3B4455;\n",
              "    fill: #D2E3FC;\n",
              "  }\n",
              "\n",
              "  [theme=dark] .colab-df-quickchart:hover {\n",
              "    background-color: #434B5C;\n",
              "    box-shadow: 0px 1px 3px 1px rgba(0, 0, 0, 0.15);\n",
              "    filter: drop-shadow(0px 1px 2px rgba(0, 0, 0, 0.3));\n",
              "    fill: #FFFFFF;\n",
              "  }\n",
              "</style>\n",
              "\n",
              "    <script>\n",
              "      async function quickchart(key) {\n",
              "        const containerElement = document.querySelector('#' + key);\n",
              "        const charts = await google.colab.kernel.invokeFunction(\n",
              "            'suggestCharts', [key], {});\n",
              "      }\n",
              "    </script>\n",
              "\n",
              "      <script>\n",
              "\n",
              "function displayQuickchartButton(domScope) {\n",
              "  let quickchartButtonEl =\n",
              "    domScope.querySelector('#df-15e99766-3445-4f34-a5a9-417c370b6456 button.colab-df-quickchart');\n",
              "  quickchartButtonEl.style.display =\n",
              "    google.colab.kernel.accessAllowed ? 'block' : 'none';\n",
              "}\n",
              "\n",
              "        displayQuickchartButton(document);\n",
              "      </script>\n",
              "      <style>\n",
              "    .colab-df-container {\n",
              "      display:flex;\n",
              "      flex-wrap:wrap;\n",
              "      gap: 12px;\n",
              "    }\n",
              "\n",
              "    .colab-df-convert {\n",
              "      background-color: #E8F0FE;\n",
              "      border: none;\n",
              "      border-radius: 50%;\n",
              "      cursor: pointer;\n",
              "      display: none;\n",
              "      fill: #1967D2;\n",
              "      height: 32px;\n",
              "      padding: 0 0 0 0;\n",
              "      width: 32px;\n",
              "    }\n",
              "\n",
              "    .colab-df-convert:hover {\n",
              "      background-color: #E2EBFA;\n",
              "      box-shadow: 0px 1px 2px rgba(60, 64, 67, 0.3), 0px 1px 3px 1px rgba(60, 64, 67, 0.15);\n",
              "      fill: #174EA6;\n",
              "    }\n",
              "\n",
              "    [theme=dark] .colab-df-convert {\n",
              "      background-color: #3B4455;\n",
              "      fill: #D2E3FC;\n",
              "    }\n",
              "\n",
              "    [theme=dark] .colab-df-convert:hover {\n",
              "      background-color: #434B5C;\n",
              "      box-shadow: 0px 1px 3px 1px rgba(0, 0, 0, 0.15);\n",
              "      filter: drop-shadow(0px 1px 2px rgba(0, 0, 0, 0.3));\n",
              "      fill: #FFFFFF;\n",
              "    }\n",
              "  </style>\n",
              "\n",
              "      <script>\n",
              "        const buttonEl =\n",
              "          document.querySelector('#df-759726db-a403-4096-a2bf-73199fbe3bec button.colab-df-convert');\n",
              "        buttonEl.style.display =\n",
              "          google.colab.kernel.accessAllowed ? 'block' : 'none';\n",
              "\n",
              "        async function convertToInteractive(key) {\n",
              "          const element = document.querySelector('#df-759726db-a403-4096-a2bf-73199fbe3bec');\n",
              "          const dataTable =\n",
              "            await google.colab.kernel.invokeFunction('convertToInteractive',\n",
              "                                                     [key], {});\n",
              "          if (!dataTable) return;\n",
              "\n",
              "          const docLinkHtml = 'Like what you see? Visit the ' +\n",
              "            '<a target=\"_blank\" href=https://colab.research.google.com/notebooks/data_table.ipynb>data table notebook</a>'\n",
              "            + ' to learn more about interactive tables.';\n",
              "          element.innerHTML = '';\n",
              "          dataTable['output_type'] = 'display_data';\n",
              "          await google.colab.output.renderOutput(dataTable, element);\n",
              "          const docLink = document.createElement('div');\n",
              "          docLink.innerHTML = docLinkHtml;\n",
              "          element.appendChild(docLink);\n",
              "        }\n",
              "      </script>\n",
              "    </div>\n",
              "  </div>\n"
            ]
          },
          "metadata": {},
          "execution_count": 5
        }
      ]
    },
    {
      "cell_type": "markdown",
      "source": [
        "### 2. 전처리"
      ],
      "metadata": {
        "id": "x8V1xZHumrYL"
      }
    },
    {
      "cell_type": "markdown",
      "source": [
        "#### 2-1. 위경도가 없는 데이터 채워주기"
      ],
      "metadata": {
        "id": "NZvqX0fmm4wi"
      }
    },
    {
      "cell_type": "code",
      "source": [
        "# 위경도 변환하기 위한 라이브러리 설치\n",
        "!pip install geopy"
      ],
      "metadata": {
        "colab": {
          "base_uri": "https://localhost:8080/"
        },
        "id": "V_a0xi30kdJt",
        "outputId": "67015a4e-5726-46a4-f84a-8c7dcb86a8d1"
      },
      "execution_count": 6,
      "outputs": [
        {
          "output_type": "stream",
          "name": "stdout",
          "text": [
            "Requirement already satisfied: geopy in /usr/local/lib/python3.10/dist-packages (2.3.0)\n",
            "Requirement already satisfied: geographiclib<3,>=1.52 in /usr/local/lib/python3.10/dist-packages (from geopy) (2.0)\n"
          ]
        }
      ]
    },
    {
      "cell_type": "code",
      "source": [
        "# 위경도 변환 라이브러리 불러오기\n",
        "from geopy.geocoders import Nominatim\n",
        "geolocator = Nominatim(user_agent=\"library_map\")"
      ],
      "metadata": {
        "id": "Kpf5aL_KlOub"
      },
      "execution_count": 7,
      "outputs": []
    },
    {
      "cell_type": "markdown",
      "source": [
        "#### 2-1-1. 위경도 찾기 위해 주소 가공 - 정규표현식 사용"
      ],
      "metadata": {
        "id": "rOtGfDlrmw0M"
      }
    },
    {
      "cell_type": "code",
      "source": [
        "# 정규표현식 사용 - 위경도 찾기 위한 주소 가공\n",
        "import re\n",
        "\n",
        "'''\n",
        "1. 뒤에 있는 괄호 지우기        / (지족동) -> \"\"\n",
        "2. (숫자)번길 앞에 띄어쓰기를 지운다.       / 수레로 1260번길 -> 수레로1260번길\n",
        "3. 번길 뒤에 숫자가 있을 경우 띄어쓰기를 한다.  / 1260번길33 -> 1260번길 33\n",
        "\n",
        "** 추가 ***********\n",
        "o4. 숫자 앞에 띄어쓰기 없으면 하기   / 대학길40-1 -> 대학길 40-1\n",
        "5. 쉼표(,) 붙은거 뒷부분 다 지우기\n",
        "6. (숫자)층, (숫자)동 붙은거 뒷부분은 다 지우기\n",
        "7. 앞뒤에 strip()함수 써서 띄어쓰기 제거하기\n",
        "********************\n",
        "\n",
        "'''\n",
        "\n",
        "def address_process(text):\n",
        "\n",
        "\n",
        "    # 1. 뒤에 있는 괄호 지우기\n",
        "    round = re.search('\\(.*\\)$', text)\n",
        "    if round:\n",
        "        round = round.group()\n",
        "        text = re.sub('\\(.*\\)$', '', text)\n",
        "\n",
        "    # 2. '(숫자)번길' 앞에 띄어쓰기를 지운다.\n",
        "    road = re.search('\\s*\\d+번길', text)\n",
        "    if road:\n",
        "        road = road.group().strip()\n",
        "        text = re.sub('\\s*\\d+번길', road, text)  # 경기도 남양주시 화도읍 수레로1260번길33\n",
        "        #print(road)\n",
        "\n",
        "    # 3. '번길' 뒤에 숫자가 있을 경우 띄어쓰기를 한다.\n",
        "    num = re.search('\\d+번길\\d+', text)\n",
        "    if num:\n",
        "        num = num.group()\n",
        "        num = re.search('\\d+$', num).group()\n",
        "        #print(num)  #33\n",
        "\n",
        "    # 4. 숫자 앞에 띄어쓰기 없으면 하기\n",
        "    # 숫자 앞에 번길이 없는 경우에만 할 것\n",
        "    # s*\\d+-*\\d+ 숫자는 40-1 과 401 둘다 찾는다.\n",
        "    if not num:\n",
        "        num_space = re.search('s*\\d+-*\\d+', text)\n",
        "        if num_space:\n",
        "            num_space = num_space.group()\n",
        "            text = re.sub('s*\\d+-*\\d+',' '+ num_space, text)\n",
        "\n",
        "\n",
        "\n",
        "\n",
        "    if road and num:\n",
        "        result = re.sub('\\d+번길\\d+', road+\" \"+num, text)  # 경기도 남양주시 화도읍 수레로 1260번길 33\n",
        "    elif road:\n",
        "        result = re.sub('\\d+번길\\d+', road, text)\n",
        "    elif num:\n",
        "        result = re.sub('\\d+번길\\d+', num, text)\n",
        "    else:\n",
        "        result = text\n",
        "\n",
        "    #print(result)\n",
        "    return result"
      ],
      "metadata": {
        "id": "_5tA7PasUaAW"
      },
      "execution_count": 74,
      "outputs": []
    },
    {
      "cell_type": "code",
      "source": [
        "text = \"울산광역시 동구 대학길40-1\"\n",
        "address_process(text)"
      ],
      "metadata": {
        "colab": {
          "base_uri": "https://localhost:8080/",
          "height": 35
        },
        "id": "69S1iXZqrtDx",
        "outputId": "f6473739-3aa9-42e2-cde3-1fb400deb58a"
      },
      "execution_count": 75,
      "outputs": [
        {
          "output_type": "execute_result",
          "data": {
            "text/plain": [
              "'울산광역시 동구 대학길 40-1'"
            ],
            "application/vnd.google.colaboratory.intrinsic+json": {
              "type": "string"
            }
          },
          "metadata": {},
          "execution_count": 75
        }
      ]
    },
    {
      "cell_type": "code",
      "source": [
        "# 위경도 변환 샘플 예제\n",
        "location = geolocator.geocode(\"경기도 여주시 흥천면 이여로 1278-2\")\n",
        "print(location)\n",
        "if location:\n",
        "    print(location.latitude)\n",
        "    print(location.longitude)\n",
        "\n",
        "    print((location.latitude, location.longitude))"
      ],
      "metadata": {
        "colab": {
          "base_uri": "https://localhost:8080/"
        },
        "id": "uKVGF7FolihT",
        "outputId": "8130fb92-07ce-4056-847b-1f9ebf66eec4"
      },
      "execution_count": 56,
      "outputs": [
        {
          "output_type": "stream",
          "name": "stdout",
          "text": [
            "None\n"
          ]
        }
      ]
    },
    {
      "cell_type": "code",
      "source": [
        "# 위경도 변환 샘플 예제\n",
        "location = geolocator.geocode(\"인천광역시 남동구 정각로 9\")\n",
        "print(location)\n",
        "if location:\n",
        "    print(location.latitude)\n",
        "    print(location.longitude)\n",
        "\n",
        "    print((location.latitude, location.longitude))"
      ],
      "metadata": {
        "colab": {
          "base_uri": "https://localhost:8080/"
        },
        "id": "whEP0CgObG_5",
        "outputId": "363ca5fe-b0b5-46a3-d38e-b7c73150fc53"
      },
      "execution_count": 64,
      "outputs": [
        {
          "output_type": "stream",
          "name": "stdout",
          "text": [
            "정각로, 인천광역시교육청, 구월1동, 남동구, 인천, 21554, 대한민국\n",
            "37.4551861\n",
            "126.7032169\n",
            "(37.4551861, 126.7032169)\n"
          ]
        }
      ]
    },
    {
      "cell_type": "code",
      "source": [
        "# 위경도 변환 함수\n",
        "def coord(address):\n",
        "\n",
        "    result = \"\"\n",
        "    location = geolocator.geocode(address)\n",
        "    #print(location)\n",
        "    if location:\n",
        "        #print(location.latitude)\n",
        "        #print(location.longitude)\n",
        "        result = (location.latitude, location.longitude)\n",
        "\n",
        "    return result"
      ],
      "metadata": {
        "id": "yD9khgrrXlu7"
      },
      "execution_count": 10,
      "outputs": []
    },
    {
      "cell_type": "code",
      "source": [
        "# 테스트를 위하여 위도와 경도가 NaN를 가진\n",
        "# 데이터들 중에 소재지도로명주소 열만 가져옴\n",
        "nan_address = nan_df.loc[:,'소재지도로명주소']"
      ],
      "metadata": {
        "id": "57pJJo6FnVlb"
      },
      "execution_count": 11,
      "outputs": []
    },
    {
      "cell_type": "code",
      "source": [
        "# 위경도를 구해서 result_list 리스트에 담음\n",
        "result_list = []\n",
        "for e in nan_address:\n",
        "    address = address_process(e)\n",
        "    #print(address)\n",
        "    result = coord(address)\n",
        "\n",
        "    result_list.append(result)\n",
        "\n",
        "print(result_list)"
      ],
      "metadata": {
        "colab": {
          "base_uri": "https://localhost:8080/"
        },
        "id": "pAe_kuZ2KMPS",
        "outputId": "1f4f7e37-ed04-4b8e-9893-b236afea90ed"
      },
      "execution_count": 12,
      "outputs": [
        {
          "output_type": "stream",
          "name": "stdout",
          "text": [
            "['', (35.5241701, 129.4317128), (35.5429174, 129.4303354), '', (37.5587151, 127.0015589), (37.5498323, 127.0058824), (37.07417, 127.38598), '', '', '', (35.508852700000006, 129.42671760151546), (35.50490275, 129.41665009077644), (35.50316, 129.42927), '', (35.484532, 129.4158766), (35.4909863, 129.41860598893481), (35.52281, 129.42899), (35.5166998, 129.4306185), (35.5434089, 129.4275833), (35.4861154, 129.4157592), (35.4899476, 129.4262602134266), (35.5137825, 129.4289254), '', '', (37.0053735, 127.2593355), '', (37.0079107, 127.1842449), (37.0043472, 127.1703209), (36.9997577, 127.154667), '', '', (35.1831242, 128.1030948), '', (35.7013006, 127.6863483), (35.4807762, 127.6845917), '', '', '', '', '', '', (35.5517421, 127.6368805), '', '', '', '', '', (35.9414261, 128.9001449), '', (34.9634415, 127.7163532), (34.5984306, 127.2766145), (34.947793000000004, 127.69091310095111), '', (34.798281, 126.6947291), '', '', '', '', '', '', '', '', '', '', '', '', '', '', (35.275269, 127.1350606), '', (35.5069314, 129.42967166871347), (35.4888521, 129.4293763), (35.5300838, 129.43051535), '', '', '', '', '', '', '', '', '', (35.0890964, 129.0646267), (37.0059512, 127.2690516), (37.0033342, 127.17269842455593), (37.4781882, 126.5053706), (36.7670559, 126.4506448), (34.8175086, 126.3943501), (37.3255102, 127.9828246), (35.1486876, 126.9249295), (35.1546999, 126.9316193), (35.14839825, 126.91864693116202), '', (35.0891534, 128.9063376), (35.1022494, 128.9264174), '', '', '', '', (35.8206427, 127.0225398), (35.7716526, 127.2068275), '', (36.0356568, 127.2034849), (36.046713, 127.2620619), (35.9238315, 127.1701377), '', (37.59418, 126.92555), (37.684839, 127.8825106), (37.7137043, 128.1855804), (37.6192105, 127.7671928), (37.7745335, 128.3901727), (37.5089853, 126.8960678), '', '', (35.216104, 128.5756983), (35.2557754, 128.5202982), (35.73191545, 127.12065905509124), (35.2103681, 126.8729389), (37.3255102, 127.9828246), (35.0711705, 127.7593969), '', (35.1364304, 127.6971181), '', '', '', (35.0221567, 127.817324), '', '', (35.0315519, 127.9037326), '', '', '', '', (35.9053354, 127.16079595789591), (35.9583583, 127.1232745), (35.92051495, 127.09320448332696), (35.9763576, 127.2052902), (37.5173754, 127.0371963), (37.519136, 127.0465018), (37.5254445, 127.0507865), (37.4996053, 127.0658806), (37.5000976, 127.0579215), (37.5023067, 127.0642127), (37.4973549, 127.0318573), (37.495394, 127.033108), (37.5199698, 127.056947), '', (37.514342549999995, 127.06254663143731), (37.4694739, 127.0917658), '', (35.9608461, 127.660451), (35.495231399999994, 129.42019802937932), (35.5429174, 129.4303354), (35.4973536, 129.4180043), (35.4888521, 129.4293763), (34.7767792, 127.6425985), (37.4860344, 126.9879403), (37.450243, 127.0539768), (36.1965727, 127.0860958), (37.4894218, 127.0383343), '', '', '', '', '', '', '', (36.2422, 128.56567), '', (37.4690295, 127.1068975), (37.4932911, 127.0568027), '', '', '', '', '', '', '', (37.4920557, 127.087615), (36.483982, 127.7190253), (36.6308461, 128.206104), (36.6560298, 128.2594467), (37.3822202, 127.5662004), (37.2911384, 127.6306733), (37.2003223, 127.6609086), '', (37.3731557, 127.5862557), (37.4017181, 127.4436972), (37.3264566, 127.6851332), '', '', (37.3169622, 127.06313536008433), (37.247549, 127.2255307), (37.23738295, 127.06890303206498), (37.4707837, 126.631253), (37.495678749999996, 126.48857829404318), (37.4746012, 126.626187), (37.4947209, 126.56370673999623), (37.4758266, 126.6342833), (37.4747265, 126.64882182653744), (37.4787027, 126.6451742), (37.4551872, 126.6904625), (37.462402, 126.6435055), (37.4466342, 126.6674737), (37.456593, 126.6573643), '', (37.4755887, 126.6600626), (37.4637701, 126.6765515), (37.4630322, 126.6472705), (37.4487882, 126.6828012), (37.4516405, 126.6360646), (37.4191394, 126.6843798), (37.412337, 126.6747411), (37.39802085, 126.65363506243094), (37.4255593, 126.6609502), '', (37.3932799, 126.6476101), '', (37.4078237, 126.6640528), (37.4271014, 126.6818503), (37.4479279, 126.7239716), '', (37.4661374, 126.7145968), (37.436679, 126.7459144), (37.3887245, 126.71858), '', (37.403251, 126.726942), (37.4910286, 126.7293174), (37.5062779, 126.7219326), (37.50469, 126.7244338), (37.4896722, 126.7390519), (37.51760695, 126.72714986877534), (37.5224387, 126.7399361), (37.4850968, 126.7351731), (37.5057612, 126.7145817), (37.5460706, 126.7305974), (37.5327647, 126.7375541), (37.5291326, 126.7154729), (37.5265024, 126.7427683), (37.562775, 126.7595886), (37.5451078, 126.7365849), (37.4956209, 126.6788636), (37.4956209, 126.6788636), (37.5421841, 126.6751789), (37.6010747, 126.6646433), (37.5108648, 126.6780218), (37.5441073, 126.6694915), (37.5299674, 126.6599378), (37.5278761, 126.6368027), (37.5663509, 126.6832876), (37.5895714, 126.6486084), (37.74879225, 126.4831926852614), '', '', '', '', (37.2566296, 126.4829172), (37.6543336, 125.7112312)]\n"
          ]
        }
      ]
    },
    {
      "cell_type": "code",
      "source": [
        "print(len(nan_df))      # 위경도가 없는 데이터 개수\n",
        "print(len(result_list))\n",
        "print(result_list.count(''))  # 위경도를 찾지 못한 데이터 - 97"
      ],
      "metadata": {
        "colab": {
          "base_uri": "https://localhost:8080/"
        },
        "id": "8XwVxvJsZ-9R",
        "outputId": "7b2c916b-5fe8-41b2-bd30-01a63fdff04f"
      },
      "execution_count": 13,
      "outputs": [
        {
          "output_type": "stream",
          "name": "stdout",
          "text": [
            "258\n",
            "258\n",
            "97\n"
          ]
        }
      ]
    },
    {
      "cell_type": "code",
      "source": [
        "# 위경도를 찾은 데이터는 df에 넣기\n",
        "import numpy as np\n",
        "\n",
        "result_array = np.array(result_list)  #list타입을 array로 바꿔준다.\n",
        "not_nan_index = np.where(result_array != \"\")[0]\n",
        "#print(index)\n",
        "\n",
        "#nan가 아닌 데이터의 인덱스 번호 구하기\n",
        "not_nan_index = nan_df.index[not_nan_index]\n",
        "#print(not_nan_index)"
      ],
      "metadata": {
        "colab": {
          "base_uri": "https://localhost:8080/"
        },
        "id": "IpVLCX-cffKq",
        "outputId": "abbc5a5a-b04e-4868-b9f9-c734b771584e"
      },
      "execution_count": 14,
      "outputs": [
        {
          "output_type": "stream",
          "name": "stderr",
          "text": [
            "<ipython-input-14-a33576d4aed5>:4: VisibleDeprecationWarning: Creating an ndarray from ragged nested sequences (which is a list-or-tuple of lists-or-tuples-or ndarrays with different lengths or shapes) is deprecated. If you meant to do this, you must specify 'dtype=object' when creating the ndarray.\n",
            "  result_array = np.array(result_list)  #list타입을 array로 바꿔준다.\n"
          ]
        }
      ]
    },
    {
      "cell_type": "code",
      "source": [
        "# 값이 있는 result_list만 사용\n",
        "add_coord = [x for x in result_list if x != '']\n",
        "len(add_coord)"
      ],
      "metadata": {
        "colab": {
          "base_uri": "https://localhost:8080/"
        },
        "id": "Zxkl-xuNhWIu",
        "outputId": "46909c1e-7aa1-44c8-9139-f89ee7631da6"
      },
      "execution_count": 15,
      "outputs": [
        {
          "output_type": "execute_result",
          "data": {
            "text/plain": [
              "161"
            ]
          },
          "metadata": {},
          "execution_count": 15
        }
      ]
    },
    {
      "cell_type": "markdown",
      "source": [
        "#### 2-1-2. 위경도 찾은 것을 original_data에 값 넣어주기"
      ],
      "metadata": {
        "id": "XYV5Mk-bnLzL"
      }
    },
    {
      "cell_type": "code",
      "source": [
        "#not_nan_index 번호를 for문 돌리면서 거기에 해당하는 위경도 좌표를 넣어줌\n",
        "for i in range(len(not_nan_index)):\n",
        "    index = not_nan_index[i]\n",
        "\n",
        "    original_data.loc[index, '위도'] = add_coord[i][0]\n",
        "    original_data.loc[index, '경도'] = add_coord[i][1]"
      ],
      "metadata": {
        "id": "SM_DtZBDiyPe"
      },
      "execution_count": 16,
      "outputs": []
    },
    {
      "cell_type": "code",
      "source": [
        "nan_df2 = data1[original_data['위도'].isnull() | original_data['경도'].isnull()]\n",
        "print(len(nan_df2)) #기존 258 -> 97 로 줄어듬"
      ],
      "metadata": {
        "colab": {
          "base_uri": "https://localhost:8080/"
        },
        "id": "mecI0oczkWks",
        "outputId": "863106a1-a81f-4577-9616-41b1d43b313f"
      },
      "execution_count": 17,
      "outputs": [
        {
          "output_type": "stream",
          "name": "stdout",
          "text": [
            "97\n"
          ]
        }
      ]
    },
    {
      "cell_type": "markdown",
      "source": [
        "============================"
      ],
      "metadata": {
        "id": "qZi7rtl8e1GJ"
      }
    },
    {
      "cell_type": "markdown",
      "source": [
        "#### 2-1-3. 위의 방법으로 위경도를 찾지 못한 데이터 처리"
      ],
      "metadata": {
        "id": "MAN6a2q9nY9s"
      }
    },
    {
      "cell_type": "code",
      "source": [
        "# result_list에서 비어있는 값을 가진 인덱스 번호 찾기\n",
        "import numpy as np\n",
        "result_array = np.array(result_list)  #list타입을 array로 바꿔준다.\n",
        "nan_index = np.where(result_array == \"\")[0]\n",
        "print(nan_index)"
      ],
      "metadata": {
        "colab": {
          "base_uri": "https://localhost:8080/"
        },
        "id": "CcoDQwK4dlnQ",
        "outputId": "d09935a9-3dae-4d35-e97e-1f4a6b78a04b"
      },
      "execution_count": 19,
      "outputs": [
        {
          "output_type": "stream",
          "name": "stdout",
          "text": [
            "[  0   3   7   8   9  13  22  23  25  29  30  32  35  36  37  38  39  40\n",
            "  42  43  44  45  46  48  52  54  55  56  57  58  59  60  61  62  63  64\n",
            "  65  66  67  69  73  74  75  76  77  78  79  80  81  92  95  96  97  98\n",
            " 101 105 112 113 120 122 123 124 126 127 129 130 131 132 146 149 160 161\n",
            " 162 163 164 165 166 168 171 172 173 174 175 176 177 185 189 190 205 215\n",
            " 217 221 225 252 253 254 255]\n"
          ]
        },
        {
          "output_type": "stream",
          "name": "stderr",
          "text": [
            "<ipython-input-19-096fb95d882b>:3: VisibleDeprecationWarning: Creating an ndarray from ragged nested sequences (which is a list-or-tuple of lists-or-tuples-or ndarrays with different lengths or shapes) is deprecated. If you meant to do this, you must specify 'dtype=object' when creating the ndarray.\n",
            "  result_array = np.array(result_list)  #list타입을 array로 바꿔준다.\n"
          ]
        }
      ]
    },
    {
      "cell_type": "code",
      "source": [
        "print(len(nan_index))  #97"
      ],
      "metadata": {
        "colab": {
          "base_uri": "https://localhost:8080/"
        },
        "id": "lybx1MSkp9-q",
        "outputId": "2b6c7374-3a5f-4e9f-9eeb-07ad7db766e8"
      },
      "execution_count": 20,
      "outputs": [
        {
          "output_type": "stream",
          "name": "stdout",
          "text": [
            "97\n"
          ]
        }
      ]
    },
    {
      "cell_type": "code",
      "source": [
        "nan_index"
      ],
      "metadata": {
        "colab": {
          "base_uri": "https://localhost:8080/"
        },
        "id": "_KDmgoubqXzZ",
        "outputId": "ed91922a-8d99-4532-fa2c-cb6bc9bb0a43"
      },
      "execution_count": 29,
      "outputs": [
        {
          "output_type": "execute_result",
          "data": {
            "text/plain": [
              "Int64Index([  45,  262,  341,  342,  343,  349,  398,  399,  401,  405,  459,\n",
              "             498,  501,  502,  503,  526,  542,  543,  545,  546,  587,  588,\n",
              "             589,  641,  688,  804,  805,  806,  807,  808,  809,  811,  812,\n",
              "             815,  816,  817,  818,  819,  821,  906, 1036, 1037, 1038, 1039,\n",
              "            1040, 1041, 1042, 1043, 1044, 1705, 1750, 1778, 1820, 1841, 1848,\n",
              "            1917, 2072, 2073, 2310, 2312, 2313, 2314, 2316, 2317, 2319, 2420,\n",
              "            2421, 2428, 2655, 2658, 3020, 3021, 3022, 3023, 3072, 3073, 3074,\n",
              "            3198, 3242, 3243, 3244, 3245, 3246, 3247, 3248, 3375, 3379, 3391,\n",
              "            3573, 3583, 3585, 3589, 3593, 3620, 3621, 3622, 3623],\n",
              "           dtype='int64')"
            ]
          },
          "metadata": {},
          "execution_count": 29
        }
      ]
    },
    {
      "cell_type": "code",
      "source": [
        "# 위경도가 nan 값인 것 찾기\n",
        "#nan_df2  # 97\n",
        "#nan_data = original_data.loc[nan_index] # 97"
      ],
      "metadata": {
        "id": "YTgwZWmGnpxD"
      },
      "execution_count": 31,
      "outputs": []
    },
    {
      "cell_type": "code",
      "source": [
        "import pandas as pd\n",
        "nan_df2.to_excel('nan_data.xlsx') #nan 데이터 엑셀로 확인"
      ],
      "metadata": {
        "id": "CbjgcNNEqmkp"
      },
      "execution_count": 34,
      "outputs": []
    },
    {
      "cell_type": "markdown",
      "source": [
        "===================================================="
      ],
      "metadata": {
        "id": "Q6Ya7pZ7e5OY"
      }
    },
    {
      "cell_type": "markdown",
      "source": [
        "### 테스트"
      ],
      "metadata": {
        "id": "yvdUSGwUtIf5"
      }
    },
    {
      "cell_type": "code",
      "source": [
        "dic = {\"위도\" : data1['위도'], \"경도\" : data1['경도']}"
      ],
      "metadata": {
        "id": "4KhqZq81g6Kf"
      },
      "execution_count": null,
      "outputs": []
    },
    {
      "cell_type": "code",
      "source": [
        "location1 = pd.DataFrame(dic)"
      ],
      "metadata": {
        "id": "jhN7vIrghng2"
      },
      "execution_count": null,
      "outputs": []
    },
    {
      "cell_type": "code",
      "source": [
        "location1"
      ],
      "metadata": {
        "colab": {
          "base_uri": "https://localhost:8080/",
          "height": 424
        },
        "id": "H0yXS0NkhQrd",
        "outputId": "a3d219e2-3f50-4a60-9ea6-4755b9705243"
      },
      "execution_count": null,
      "outputs": [
        {
          "output_type": "execute_result",
          "data": {
            "text/plain": [
              "             위도          경도\n",
              "0     37.658160  127.299532\n",
              "1     37.176854  129.335484\n",
              "2     37.829691  127.506433\n",
              "3     37.683315  127.491015\n",
              "4     37.739591  127.424230\n",
              "...         ...         ...\n",
              "3624        NaN         NaN\n",
              "3625        NaN         NaN\n",
              "3626  38.125564  128.205558\n",
              "3627  37.955236  128.319014\n",
              "3628  38.221730  128.207150\n",
              "\n",
              "[3629 rows x 2 columns]"
            ],
            "text/html": [
              "\n",
              "\n",
              "  <div id=\"df-db15e6e6-7a76-407e-a446-0a4125058427\">\n",
              "    <div class=\"colab-df-container\">\n",
              "      <div>\n",
              "<style scoped>\n",
              "    .dataframe tbody tr th:only-of-type {\n",
              "        vertical-align: middle;\n",
              "    }\n",
              "\n",
              "    .dataframe tbody tr th {\n",
              "        vertical-align: top;\n",
              "    }\n",
              "\n",
              "    .dataframe thead th {\n",
              "        text-align: right;\n",
              "    }\n",
              "</style>\n",
              "<table border=\"1\" class=\"dataframe\">\n",
              "  <thead>\n",
              "    <tr style=\"text-align: right;\">\n",
              "      <th></th>\n",
              "      <th>위도</th>\n",
              "      <th>경도</th>\n",
              "    </tr>\n",
              "  </thead>\n",
              "  <tbody>\n",
              "    <tr>\n",
              "      <th>0</th>\n",
              "      <td>37.658160</td>\n",
              "      <td>127.299532</td>\n",
              "    </tr>\n",
              "    <tr>\n",
              "      <th>1</th>\n",
              "      <td>37.176854</td>\n",
              "      <td>129.335484</td>\n",
              "    </tr>\n",
              "    <tr>\n",
              "      <th>2</th>\n",
              "      <td>37.829691</td>\n",
              "      <td>127.506433</td>\n",
              "    </tr>\n",
              "    <tr>\n",
              "      <th>3</th>\n",
              "      <td>37.683315</td>\n",
              "      <td>127.491015</td>\n",
              "    </tr>\n",
              "    <tr>\n",
              "      <th>4</th>\n",
              "      <td>37.739591</td>\n",
              "      <td>127.424230</td>\n",
              "    </tr>\n",
              "    <tr>\n",
              "      <th>...</th>\n",
              "      <td>...</td>\n",
              "      <td>...</td>\n",
              "    </tr>\n",
              "    <tr>\n",
              "      <th>3624</th>\n",
              "      <td>NaN</td>\n",
              "      <td>NaN</td>\n",
              "    </tr>\n",
              "    <tr>\n",
              "      <th>3625</th>\n",
              "      <td>NaN</td>\n",
              "      <td>NaN</td>\n",
              "    </tr>\n",
              "    <tr>\n",
              "      <th>3626</th>\n",
              "      <td>38.125564</td>\n",
              "      <td>128.205558</td>\n",
              "    </tr>\n",
              "    <tr>\n",
              "      <th>3627</th>\n",
              "      <td>37.955236</td>\n",
              "      <td>128.319014</td>\n",
              "    </tr>\n",
              "    <tr>\n",
              "      <th>3628</th>\n",
              "      <td>38.221730</td>\n",
              "      <td>128.207150</td>\n",
              "    </tr>\n",
              "  </tbody>\n",
              "</table>\n",
              "<p>3629 rows × 2 columns</p>\n",
              "</div>\n",
              "      <button class=\"colab-df-convert\" onclick=\"convertToInteractive('df-db15e6e6-7a76-407e-a446-0a4125058427')\"\n",
              "              title=\"Convert this dataframe to an interactive table.\"\n",
              "              style=\"display:none;\">\n",
              "\n",
              "  <svg xmlns=\"http://www.w3.org/2000/svg\" height=\"24px\"viewBox=\"0 0 24 24\"\n",
              "       width=\"24px\">\n",
              "    <path d=\"M0 0h24v24H0V0z\" fill=\"none\"/>\n",
              "    <path d=\"M18.56 5.44l.94 2.06.94-2.06 2.06-.94-2.06-.94-.94-2.06-.94 2.06-2.06.94zm-11 1L8.5 8.5l.94-2.06 2.06-.94-2.06-.94L8.5 2.5l-.94 2.06-2.06.94zm10 10l.94 2.06.94-2.06 2.06-.94-2.06-.94-.94-2.06-.94 2.06-2.06.94z\"/><path d=\"M17.41 7.96l-1.37-1.37c-.4-.4-.92-.59-1.43-.59-.52 0-1.04.2-1.43.59L10.3 9.45l-7.72 7.72c-.78.78-.78 2.05 0 2.83L4 21.41c.39.39.9.59 1.41.59.51 0 1.02-.2 1.41-.59l7.78-7.78 2.81-2.81c.8-.78.8-2.07 0-2.86zM5.41 20L4 18.59l7.72-7.72 1.47 1.35L5.41 20z\"/>\n",
              "  </svg>\n",
              "      </button>\n",
              "\n",
              "\n",
              "\n",
              "    <div id=\"df-6a52bf25-e436-4930-a92a-b8e15a3d34cd\">\n",
              "      <button class=\"colab-df-quickchart\" onclick=\"quickchart('df-6a52bf25-e436-4930-a92a-b8e15a3d34cd')\"\n",
              "              title=\"Suggest charts.\"\n",
              "              style=\"display:none;\">\n",
              "\n",
              "<svg xmlns=\"http://www.w3.org/2000/svg\" height=\"24px\"viewBox=\"0 0 24 24\"\n",
              "     width=\"24px\">\n",
              "    <g>\n",
              "        <path d=\"M19 3H5c-1.1 0-2 .9-2 2v14c0 1.1.9 2 2 2h14c1.1 0 2-.9 2-2V5c0-1.1-.9-2-2-2zM9 17H7v-7h2v7zm4 0h-2V7h2v10zm4 0h-2v-4h2v4z\"/>\n",
              "    </g>\n",
              "</svg>\n",
              "      </button>\n",
              "    </div>\n",
              "\n",
              "<style>\n",
              "  .colab-df-quickchart {\n",
              "    background-color: #E8F0FE;\n",
              "    border: none;\n",
              "    border-radius: 50%;\n",
              "    cursor: pointer;\n",
              "    display: none;\n",
              "    fill: #1967D2;\n",
              "    height: 32px;\n",
              "    padding: 0 0 0 0;\n",
              "    width: 32px;\n",
              "  }\n",
              "\n",
              "  .colab-df-quickchart:hover {\n",
              "    background-color: #E2EBFA;\n",
              "    box-shadow: 0px 1px 2px rgba(60, 64, 67, 0.3), 0px 1px 3px 1px rgba(60, 64, 67, 0.15);\n",
              "    fill: #174EA6;\n",
              "  }\n",
              "\n",
              "  [theme=dark] .colab-df-quickchart {\n",
              "    background-color: #3B4455;\n",
              "    fill: #D2E3FC;\n",
              "  }\n",
              "\n",
              "  [theme=dark] .colab-df-quickchart:hover {\n",
              "    background-color: #434B5C;\n",
              "    box-shadow: 0px 1px 3px 1px rgba(0, 0, 0, 0.15);\n",
              "    filter: drop-shadow(0px 1px 2px rgba(0, 0, 0, 0.3));\n",
              "    fill: #FFFFFF;\n",
              "  }\n",
              "</style>\n",
              "\n",
              "    <script>\n",
              "      async function quickchart(key) {\n",
              "        const containerElement = document.querySelector('#' + key);\n",
              "        const charts = await google.colab.kernel.invokeFunction(\n",
              "            'suggestCharts', [key], {});\n",
              "      }\n",
              "    </script>\n",
              "\n",
              "      <script>\n",
              "\n",
              "function displayQuickchartButton(domScope) {\n",
              "  let quickchartButtonEl =\n",
              "    domScope.querySelector('#df-6a52bf25-e436-4930-a92a-b8e15a3d34cd button.colab-df-quickchart');\n",
              "  quickchartButtonEl.style.display =\n",
              "    google.colab.kernel.accessAllowed ? 'block' : 'none';\n",
              "}\n",
              "\n",
              "        displayQuickchartButton(document);\n",
              "      </script>\n",
              "      <style>\n",
              "    .colab-df-container {\n",
              "      display:flex;\n",
              "      flex-wrap:wrap;\n",
              "      gap: 12px;\n",
              "    }\n",
              "\n",
              "    .colab-df-convert {\n",
              "      background-color: #E8F0FE;\n",
              "      border: none;\n",
              "      border-radius: 50%;\n",
              "      cursor: pointer;\n",
              "      display: none;\n",
              "      fill: #1967D2;\n",
              "      height: 32px;\n",
              "      padding: 0 0 0 0;\n",
              "      width: 32px;\n",
              "    }\n",
              "\n",
              "    .colab-df-convert:hover {\n",
              "      background-color: #E2EBFA;\n",
              "      box-shadow: 0px 1px 2px rgba(60, 64, 67, 0.3), 0px 1px 3px 1px rgba(60, 64, 67, 0.15);\n",
              "      fill: #174EA6;\n",
              "    }\n",
              "\n",
              "    [theme=dark] .colab-df-convert {\n",
              "      background-color: #3B4455;\n",
              "      fill: #D2E3FC;\n",
              "    }\n",
              "\n",
              "    [theme=dark] .colab-df-convert:hover {\n",
              "      background-color: #434B5C;\n",
              "      box-shadow: 0px 1px 3px 1px rgba(0, 0, 0, 0.15);\n",
              "      filter: drop-shadow(0px 1px 2px rgba(0, 0, 0, 0.3));\n",
              "      fill: #FFFFFF;\n",
              "    }\n",
              "  </style>\n",
              "\n",
              "      <script>\n",
              "        const buttonEl =\n",
              "          document.querySelector('#df-db15e6e6-7a76-407e-a446-0a4125058427 button.colab-df-convert');\n",
              "        buttonEl.style.display =\n",
              "          google.colab.kernel.accessAllowed ? 'block' : 'none';\n",
              "\n",
              "        async function convertToInteractive(key) {\n",
              "          const element = document.querySelector('#df-db15e6e6-7a76-407e-a446-0a4125058427');\n",
              "          const dataTable =\n",
              "            await google.colab.kernel.invokeFunction('convertToInteractive',\n",
              "                                                     [key], {});\n",
              "          if (!dataTable) return;\n",
              "\n",
              "          const docLinkHtml = 'Like what you see? Visit the ' +\n",
              "            '<a target=\"_blank\" href=https://colab.research.google.com/notebooks/data_table.ipynb>data table notebook</a>'\n",
              "            + ' to learn more about interactive tables.';\n",
              "          element.innerHTML = '';\n",
              "          dataTable['output_type'] = 'display_data';\n",
              "          await google.colab.output.renderOutput(dataTable, element);\n",
              "          const docLink = document.createElement('div');\n",
              "          docLink.innerHTML = docLinkHtml;\n",
              "          element.appendChild(docLink);\n",
              "        }\n",
              "      </script>\n",
              "    </div>\n",
              "  </div>\n"
            ]
          },
          "metadata": {},
          "execution_count": 31
        }
      ]
    },
    {
      "cell_type": "code",
      "source": [
        "for i in location1:\n",
        "    print(i)\n",
        "    break"
      ],
      "metadata": {
        "colab": {
          "base_uri": "https://localhost:8080/"
        },
        "id": "u2CS3xyyhFcI",
        "outputId": "fd3672ce-6b34-4824-a5ea-e214966c64c9"
      },
      "execution_count": null,
      "outputs": [
        {
          "output_type": "stream",
          "name": "stdout",
          "text": [
            "0       37.658160\n",
            "1       37.176854\n",
            "2       37.829691\n",
            "3       37.683315\n",
            "4       37.739591\n",
            "          ...    \n",
            "3624          NaN\n",
            "3625          NaN\n",
            "3626    38.125564\n",
            "3627    37.955236\n",
            "3628    38.221730\n",
            "Name: 위도, Length: 3629, dtype: float64\n"
          ]
        }
      ]
    },
    {
      "cell_type": "code",
      "source": [
        "# 지도 시각화를 위해 라이브러리 불러옴\n",
        "import folium\n",
        "\n",
        "#folium.Map(location=[위도, 경도])\n",
        "m = folium.Map(location=[37.658160, 127.299532])"
      ],
      "metadata": {
        "id": "FCAd9Rd8fjSt"
      },
      "execution_count": null,
      "outputs": []
    },
    {
      "cell_type": "code",
      "source": [
        "folium.Marker([37.658160, 127.299532]).add_to(m)\n",
        "m"
      ],
      "metadata": {
        "colab": {
          "base_uri": "https://localhost:8080/",
          "height": 557
        },
        "id": "wMKrBvp_gGR9",
        "outputId": "53e6b9a5-f356-4aa1-f1bd-52ab8baac618"
      },
      "execution_count": null,
      "outputs": [
        {
          "output_type": "execute_result",
          "data": {
            "text/plain": [
              "<folium.folium.Map at 0x7ce299fd8e50>"
            ],
            "text/html": [
              "<div style=\"width:100%;\"><div style=\"position:relative;width:100%;height:0;padding-bottom:60%;\"><span style=\"color:#565656\">Make this Notebook Trusted to load map: File -> Trust Notebook</span><iframe srcdoc=\"&lt;!DOCTYPE html&gt;\n",
              "&lt;html&gt;\n",
              "&lt;head&gt;\n",
              "    \n",
              "    &lt;meta http-equiv=&quot;content-type&quot; content=&quot;text/html; charset=UTF-8&quot; /&gt;\n",
              "    \n",
              "        &lt;script&gt;\n",
              "            L_NO_TOUCH = false;\n",
              "            L_DISABLE_3D = false;\n",
              "        &lt;/script&gt;\n",
              "    \n",
              "    &lt;style&gt;html, body {width: 100%;height: 100%;margin: 0;padding: 0;}&lt;/style&gt;\n",
              "    &lt;style&gt;#map {position:absolute;top:0;bottom:0;right:0;left:0;}&lt;/style&gt;\n",
              "    &lt;script src=&quot;https://cdn.jsdelivr.net/npm/leaflet@1.9.3/dist/leaflet.js&quot;&gt;&lt;/script&gt;\n",
              "    &lt;script src=&quot;https://code.jquery.com/jquery-1.12.4.min.js&quot;&gt;&lt;/script&gt;\n",
              "    &lt;script src=&quot;https://cdn.jsdelivr.net/npm/bootstrap@5.2.2/dist/js/bootstrap.bundle.min.js&quot;&gt;&lt;/script&gt;\n",
              "    &lt;script src=&quot;https://cdnjs.cloudflare.com/ajax/libs/Leaflet.awesome-markers/2.0.2/leaflet.awesome-markers.js&quot;&gt;&lt;/script&gt;\n",
              "    &lt;link rel=&quot;stylesheet&quot; href=&quot;https://cdn.jsdelivr.net/npm/leaflet@1.9.3/dist/leaflet.css&quot;/&gt;\n",
              "    &lt;link rel=&quot;stylesheet&quot; href=&quot;https://cdn.jsdelivr.net/npm/bootstrap@5.2.2/dist/css/bootstrap.min.css&quot;/&gt;\n",
              "    &lt;link rel=&quot;stylesheet&quot; href=&quot;https://netdna.bootstrapcdn.com/bootstrap/3.0.0/css/bootstrap.min.css&quot;/&gt;\n",
              "    &lt;link rel=&quot;stylesheet&quot; href=&quot;https://cdn.jsdelivr.net/npm/@fortawesome/fontawesome-free@6.2.0/css/all.min.css&quot;/&gt;\n",
              "    &lt;link rel=&quot;stylesheet&quot; href=&quot;https://cdnjs.cloudflare.com/ajax/libs/Leaflet.awesome-markers/2.0.2/leaflet.awesome-markers.css&quot;/&gt;\n",
              "    &lt;link rel=&quot;stylesheet&quot; href=&quot;https://cdn.jsdelivr.net/gh/python-visualization/folium/folium/templates/leaflet.awesome.rotate.min.css&quot;/&gt;\n",
              "    \n",
              "            &lt;meta name=&quot;viewport&quot; content=&quot;width=device-width,\n",
              "                initial-scale=1.0, maximum-scale=1.0, user-scalable=no&quot; /&gt;\n",
              "            &lt;style&gt;\n",
              "                #map_7487a849b811cd178129261b8e1d91a0 {\n",
              "                    position: relative;\n",
              "                    width: 100.0%;\n",
              "                    height: 100.0%;\n",
              "                    left: 0.0%;\n",
              "                    top: 0.0%;\n",
              "                }\n",
              "                .leaflet-container { font-size: 1rem; }\n",
              "            &lt;/style&gt;\n",
              "        \n",
              "&lt;/head&gt;\n",
              "&lt;body&gt;\n",
              "    \n",
              "    \n",
              "            &lt;div class=&quot;folium-map&quot; id=&quot;map_7487a849b811cd178129261b8e1d91a0&quot; &gt;&lt;/div&gt;\n",
              "        \n",
              "&lt;/body&gt;\n",
              "&lt;script&gt;\n",
              "    \n",
              "    \n",
              "            var map_7487a849b811cd178129261b8e1d91a0 = L.map(\n",
              "                &quot;map_7487a849b811cd178129261b8e1d91a0&quot;,\n",
              "                {\n",
              "                    center: [37.65816, 127.299532],\n",
              "                    crs: L.CRS.EPSG3857,\n",
              "                    zoom: 10,\n",
              "                    zoomControl: true,\n",
              "                    preferCanvas: false,\n",
              "                }\n",
              "            );\n",
              "\n",
              "            \n",
              "\n",
              "        \n",
              "    \n",
              "            var tile_layer_803dc3734241fc2d8d74904ce5b69eec = L.tileLayer(\n",
              "                &quot;https://{s}.tile.openstreetmap.org/{z}/{x}/{y}.png&quot;,\n",
              "                {&quot;attribution&quot;: &quot;Data by \\u0026copy; \\u003ca target=\\&quot;_blank\\&quot; href=\\&quot;http://openstreetmap.org\\&quot;\\u003eOpenStreetMap\\u003c/a\\u003e, under \\u003ca target=\\&quot;_blank\\&quot; href=\\&quot;http://www.openstreetmap.org/copyright\\&quot;\\u003eODbL\\u003c/a\\u003e.&quot;, &quot;detectRetina&quot;: false, &quot;maxNativeZoom&quot;: 18, &quot;maxZoom&quot;: 18, &quot;minZoom&quot;: 0, &quot;noWrap&quot;: false, &quot;opacity&quot;: 1, &quot;subdomains&quot;: &quot;abc&quot;, &quot;tms&quot;: false}\n",
              "            ).addTo(map_7487a849b811cd178129261b8e1d91a0);\n",
              "        \n",
              "    \n",
              "            var marker_8a59df0a52028ddc849d1a94c3473e05 = L.marker(\n",
              "                [37.65816, 127.299532],\n",
              "                {}\n",
              "            ).addTo(map_7487a849b811cd178129261b8e1d91a0);\n",
              "        \n",
              "&lt;/script&gt;\n",
              "&lt;/html&gt;\" style=\"position:absolute;width:100%;height:100%;left:0;top:0;border:none !important;\" allowfullscreen webkitallowfullscreen mozallowfullscreen></iframe></div></div>"
            ]
          },
          "metadata": {},
          "execution_count": 14
        }
      ]
    },
    {
      "cell_type": "code",
      "source": [],
      "metadata": {
        "id": "YFCh5ujpbW6p"
      },
      "execution_count": null,
      "outputs": []
    }
  ]
}